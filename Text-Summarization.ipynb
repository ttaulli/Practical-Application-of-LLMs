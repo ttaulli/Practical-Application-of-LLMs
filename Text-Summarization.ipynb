{
 "cells": [
  {
   "cell_type": "markdown",
   "id": "36574e12-64a3-4b08-bd60-ece2fe851b3a",
   "metadata": {},
   "source": [
    "# Text Summarization"
   ]
  },
  {
   "cell_type": "code",
   "execution_count": 3,
   "id": "0f906923-7ecf-4f20-b639-2cba3988524c",
   "metadata": {},
   "outputs": [],
   "source": [
    "# pip install rouge-score absl-py nltk"
   ]
  },
  {
   "cell_type": "code",
   "execution_count": 12,
   "id": "ed898c07-aebc-456c-87e2-67684de46c04",
   "metadata": {},
   "outputs": [],
   "source": [
    "import os\n",
    "from dotenv import load_dotenv\n",
    "import tiktoken\n",
    "import openai\n",
    "import evaluate\n",
    "\n",
    "os.environ[\"EVALUATE_DISABLE_WIDGETS\"] = \"True\"\n",
    "\n",
    "load_dotenv()  # loads .env from cwd (or specify path)\n",
    "\n",
    "api_key = os.getenv(\"OPENAI_API_KEY\")\n",
    "if not api_key:\n",
    "    raise ValueError(\"Missing OPENAI_API_KEY in environment\")"
   ]
  },
  {
   "cell_type": "code",
   "execution_count": 7,
   "id": "05edfe86-c661-4d15-bea9-33cb779d5d2d",
   "metadata": {},
   "outputs": [],
   "source": [
    "def chunk_text(text, max_tokens=2000, model=\"gpt-4\"):\n",
    "    enc = tiktoken.encoding_for_model(model)\n",
    "    tokens = enc.encode(text)\n",
    "    for i in range(0, len(tokens), max_tokens):\n",
    "        yield enc.decode(tokens[i:i + max_tokens])"
   ]
  },
  {
   "cell_type": "code",
   "execution_count": 8,
   "id": "24de3588-4e9e-4750-b847-516b88cc82d9",
   "metadata": {},
   "outputs": [],
   "source": [
    "def summarize_chunk(chunk):\n",
    "    resp = openai.ChatCompletion.create(\n",
    "        model=\"gpt-4\",\n",
    "        messages=[\n",
    "            {\"role\": \"system\", \"content\": \"You are a helpful assistant that summarizes text.\"},\n",
    "            {\"role\": \"user\", \"content\": f\"Summarize this:\\n\\n{chunk}\"}\n",
    "        ],\n",
    "        temperature=0.3,\n",
    "        max_tokens=1024\n",
    "    )\n",
    "    return resp.choices[0].message.content.strip()"
   ]
  },
  {
   "cell_type": "code",
   "execution_count": 9,
   "id": "f5b04724-a543-4ccd-aaa3-5d608257fd20",
   "metadata": {},
   "outputs": [],
   "source": [
    "def summarize_long_text(text):\n",
    "    summaries = [summarize_chunk(c) for c in chunk_text(text)]\n",
    "    return summarize_chunk(\"\\n\\n\".join(summaries)) if len(summaries) > 1 else summaries[0]"
   ]
  },
  {
   "cell_type": "code",
   "execution_count": 13,
   "id": "cfd5e645-aa15-4a26-92ee-f072627bb686",
   "metadata": {},
   "outputs": [
    {
     "name": "stderr",
     "output_type": "stream",
     "text": [
      "[nltk_data] Downloading package wordnet to\n",
      "[nltk_data]     /Users/tomtaulli/nltk_data...\n",
      "[nltk_data]   Package wordnet is already up-to-date!\n",
      "[nltk_data] Downloading package punkt to /Users/tomtaulli/nltk_data...\n",
      "[nltk_data]   Package punkt is already up-to-date!\n",
      "[nltk_data] Downloading package omw-1.4 to\n",
      "[nltk_data]     /Users/tomtaulli/nltk_data...\n",
      "[nltk_data]   Package omw-1.4 is already up-to-date!\n"
     ]
    }
   ],
   "source": [
    "rouge = evaluate.load(\"rouge\")\n",
    "meteor = evaluate.load(\"meteor\")\n",
    "bleu = evaluate.load(\"bleu\")"
   ]
  },
  {
   "cell_type": "code",
   "execution_count": 14,
   "id": "2e5a7b81-960e-40d6-afae-57e467367f9a",
   "metadata": {},
   "outputs": [
    {
     "ename": "FileNotFoundError",
     "evalue": "[Errno 2] No such file or directory: 'long_doc.txt'",
     "output_type": "error",
     "traceback": [
      "\u001b[0;31m---------------------------------------------------------------------------\u001b[0m",
      "\u001b[0;31mFileNotFoundError\u001b[0m                         Traceback (most recent call last)",
      "Cell \u001b[0;32mIn[14], line 2\u001b[0m\n\u001b[1;32m      1\u001b[0m \u001b[38;5;28;01mif\u001b[39;00m \u001b[38;5;18m__name__\u001b[39m \u001b[38;5;241m==\u001b[39m \u001b[38;5;124m\"\u001b[39m\u001b[38;5;124m__main__\u001b[39m\u001b[38;5;124m\"\u001b[39m:\n\u001b[0;32m----> 2\u001b[0m     \u001b[38;5;28;01mwith\u001b[39;00m \u001b[38;5;28mopen\u001b[39m(\u001b[38;5;124m\"\u001b[39m\u001b[38;5;124mlong_doc.txt\u001b[39m\u001b[38;5;124m\"\u001b[39m) \u001b[38;5;28;01mas\u001b[39;00m f:\n\u001b[1;32m      3\u001b[0m         text \u001b[38;5;241m=\u001b[39m f\u001b[38;5;241m.\u001b[39mread()\n\u001b[1;32m      4\u001b[0m     summary \u001b[38;5;241m=\u001b[39m summarize_long_text(text)\n",
      "File \u001b[0;32m/opt/anaconda3/lib/python3.12/site-packages/IPython/core/interactiveshell.py:324\u001b[0m, in \u001b[0;36m_modified_open\u001b[0;34m(file, *args, **kwargs)\u001b[0m\n\u001b[1;32m    317\u001b[0m \u001b[38;5;28;01mif\u001b[39;00m file \u001b[38;5;129;01min\u001b[39;00m {\u001b[38;5;241m0\u001b[39m, \u001b[38;5;241m1\u001b[39m, \u001b[38;5;241m2\u001b[39m}:\n\u001b[1;32m    318\u001b[0m     \u001b[38;5;28;01mraise\u001b[39;00m \u001b[38;5;167;01mValueError\u001b[39;00m(\n\u001b[1;32m    319\u001b[0m         \u001b[38;5;124mf\u001b[39m\u001b[38;5;124m\"\u001b[39m\u001b[38;5;124mIPython won\u001b[39m\u001b[38;5;124m'\u001b[39m\u001b[38;5;124mt let you open fd=\u001b[39m\u001b[38;5;132;01m{\u001b[39;00mfile\u001b[38;5;132;01m}\u001b[39;00m\u001b[38;5;124m by default \u001b[39m\u001b[38;5;124m\"\u001b[39m\n\u001b[1;32m    320\u001b[0m         \u001b[38;5;124m\"\u001b[39m\u001b[38;5;124mas it is likely to crash IPython. If you know what you are doing, \u001b[39m\u001b[38;5;124m\"\u001b[39m\n\u001b[1;32m    321\u001b[0m         \u001b[38;5;124m\"\u001b[39m\u001b[38;5;124myou can use builtins\u001b[39m\u001b[38;5;124m'\u001b[39m\u001b[38;5;124m open.\u001b[39m\u001b[38;5;124m\"\u001b[39m\n\u001b[1;32m    322\u001b[0m     )\n\u001b[0;32m--> 324\u001b[0m \u001b[38;5;28;01mreturn\u001b[39;00m io_open(file, \u001b[38;5;241m*\u001b[39margs, \u001b[38;5;241m*\u001b[39m\u001b[38;5;241m*\u001b[39mkwargs)\n",
      "\u001b[0;31mFileNotFoundError\u001b[0m: [Errno 2] No such file or directory: 'long_doc.txt'"
     ]
    }
   ],
   "source": [
    "if __name__ == \"__main__\":\n",
    "    with open(\"long_doc.txt\") as f:\n",
    "        text = f.read()\n",
    "    summary = summarize_long_text(text)\n",
    "    reference = open(\"ref_summary.txt\").read()\n",
    "\n",
    "    # Compute metrics\n",
    "    rouge_scores = rouge.compute(predictions=[summary], references=[reference])\n",
    "    meteor_scores = meteor.compute(predictions=[summary], references=[reference])\n",
    "    bleu_scores = bleu.compute(predictions=[summary], references=[reference])\n",
    "\n",
    "    print(\"Summary:\\n\", summary)\n",
    "    print(\"\\nEvaluation Metrics:\")\n",
    "    print(f\"ROUGE‑1/2/L: {rouge_scores['rouge1']:.3f}, {rouge_scores['rouge2']:.3f}, {rouge_scores['rougeL']:.3f}\")\n",
    "    print(f\"METEOR: {meteor_scores['score']:.3f}\")\n",
    "    print(f\"BLEU: {bleu_scores['bleu']:.3f}\")"
   ]
  },
  {
   "cell_type": "code",
   "execution_count": null,
   "id": "124918ad-16fc-4912-aaa4-042ade601fb9",
   "metadata": {},
   "outputs": [],
   "source": []
  }
 ],
 "metadata": {
  "kernelspec": {
   "display_name": "Python 3 (ipykernel)",
   "language": "python",
   "name": "python3"
  },
  "language_info": {
   "codemirror_mode": {
    "name": "ipython",
    "version": 3
   },
   "file_extension": ".py",
   "mimetype": "text/x-python",
   "name": "python",
   "nbconvert_exporter": "python",
   "pygments_lexer": "ipython3",
   "version": "3.12.4"
  }
 },
 "nbformat": 4,
 "nbformat_minor": 5
}
