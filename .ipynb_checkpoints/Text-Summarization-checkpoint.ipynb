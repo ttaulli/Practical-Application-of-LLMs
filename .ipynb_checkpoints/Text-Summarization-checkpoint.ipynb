{
 "cells": [
  {
   "cell_type": "markdown",
   "id": "36574e12-64a3-4b08-bd60-ece2fe851b3a",
   "metadata": {},
   "source": [
    "# Text Summarization"
   ]
  },
  {
   "cell_type": "code",
   "execution_count": 3,
   "id": "0f906923-7ecf-4f20-b639-2cba3988524c",
   "metadata": {},
   "outputs": [],
   "source": [
    "# pip install rouge-score absl-py nltk"
   ]
  },
  {
   "cell_type": "code",
   "execution_count": 14,
   "id": "ed898c07-aebc-456c-87e2-67684de46c04",
   "metadata": {},
   "outputs": [],
   "source": [
    "import os\n",
    "from dotenv import load_dotenv\n",
    "import tiktoken\n",
    "from openai import OpenAI\n",
    "import evaluate\n",
    "\n",
    "load_dotenv()  # loads from .env in working directory\n",
    "api_key = os.getenv(\"OPENAI_API_KEY\")\n",
    "if not api_key:\n",
    "    raise ValueError(\"Missing OPENAI_API_KEY in environment\")\n",
    "\n",
    "client = OpenAI(api_key=api_key)"
   ]
  },
  {
   "cell_type": "code",
   "execution_count": 15,
   "id": "124918ad-16fc-4912-aaa4-042ade601fb9",
   "metadata": {},
   "outputs": [],
   "source": [
    "def chunk_text(text, max_tokens=2000, model=\"gpt-4\"):\n",
    "    enc = tiktoken.encoding_for_model(model)\n",
    "    tokens = enc.encode(text)\n",
    "    for i in range(0, len(tokens), max_tokens):\n",
    "        yield enc.decode(tokens[i : i + max_tokens])"
   ]
  },
  {
   "cell_type": "code",
   "execution_count": 16,
   "id": "7e79f057-48ec-44d5-a47e-33541183e3b8",
   "metadata": {},
   "outputs": [],
   "source": [
    "def summarize_chunk(chunk):\n",
    "    resp = client.chat.completions.create(\n",
    "        model=\"gpt-4\",\n",
    "        messages=[\n",
    "            {\"role\": \"system\", \"content\": \"You are a helpful assistant that summarizes text.\"},\n",
    "            {\"role\": \"user\", \"content\": f\"Summarize this:\\n\\n{chunk}\"}\n",
    "        ],\n",
    "        temperature=0.3,\n",
    "        max_tokens=1024,\n",
    "    )\n",
    "    return resp.choices[0].message.content.strip()"
   ]
  },
  {
   "cell_type": "code",
   "execution_count": 17,
   "id": "42059b28-94ec-41b4-b175-ee0975dcbe6f",
   "metadata": {},
   "outputs": [],
   "source": [
    "def summarize_long_text(text):\n",
    "    chunks = list(chunk_text(text))\n",
    "    summaries = [summarize_chunk(c) for c in chunks]\n",
    "    if len(summaries) > 1:\n",
    "        return summarize_chunk(\"\\n\\n\".join(summaries))\n",
    "    return summaries[0]"
   ]
  },
  {
   "cell_type": "code",
   "execution_count": 18,
   "id": "7a9e6f3a-b868-491f-b513-19b150402463",
   "metadata": {},
   "outputs": [
    {
     "name": "stderr",
     "output_type": "stream",
     "text": [
      "[nltk_data] Downloading package wordnet to\n",
      "[nltk_data]     /Users/tomtaulli/nltk_data...\n",
      "[nltk_data]   Package wordnet is already up-to-date!\n",
      "[nltk_data] Downloading package punkt to /Users/tomtaulli/nltk_data...\n",
      "[nltk_data]   Package punkt is already up-to-date!\n",
      "[nltk_data] Downloading package omw-1.4 to\n",
      "[nltk_data]     /Users/tomtaulli/nltk_data...\n",
      "[nltk_data]   Package omw-1.4 is already up-to-date!\n"
     ]
    }
   ],
   "source": [
    "rouge = evaluate.load(\"rouge\")\n",
    "meteor = evaluate.load(\"meteor\")\n",
    "bleu = evaluate.load(\"bleu\")"
   ]
  },
  {
   "cell_type": "code",
   "execution_count": 21,
   "id": "b1a34db5-fc21-4063-91a2-e95994f51fb3",
   "metadata": {},
   "outputs": [
    {
     "name": "stdout",
     "output_type": "stream",
     "text": [
      "🔍 Summarizing...\n",
      "\n",
      "📄 Summary:\n",
      " \"The Yellow Wallpaper\" by Charlotte Perkins Gilman is a story about a woman suffering from postpartum depression. Her physician husband, John, prescribes her rest and isolation in a colonial mansion. She is confined to a room with yellow wallpaper that she finds disturbing and becomes obsessed with. Despite her belief that work and social interaction would help her recovery, she is discouraged from expressing her thoughts. She begins to see figures in the wallpaper, including a woman she believes is trapped. Despite her pleas, her husband dismisses her concerns. She grows increasingly paranoid, suspecting her husband and his sister, Jennie, are against her. In her obsession, she peels off the wallpaper, believing she has freed the trapped woman, causing John to faint.\n",
      "\n",
      "📊 Evaluation Metrics:\n",
      "ROUGE‑1: 0.466, ROUGE‑2: 0.147, ROUGE‑L: 0.290\n",
      "METEOR: 0.430\n",
      "BLEU: 0.060\n"
     ]
    }
   ],
   "source": [
    "if __name__ == \"__main__\":\n",
    "\n",
    "    with open(\"long_doc.txt\", \"r\") as f:\n",
    "        text = f.read()\n",
    "\n",
    "    ref_summary = \"\"\n",
    "    if os.path.exists(\"ref_summary.txt\"):\n",
    "        ref_summary = open(\"ref_summary.txt\", \"r\").read()\n",
    "    else:\n",
    "        print(\"Warning: No ref_summary.txt found—benchmarks will be skipped.\")\n",
    "\n",
    "\n",
    "    print(\"🔍 Summarizing...\")\n",
    "    summary = summarize_long_text(text)\n",
    "    print(\"\\n📄 Summary:\\n\", summary)\n",
    "\n",
    "  \n",
    "    if ref_summary:\n",
    "        rouge_scores = rouge.compute(predictions=[summary], references=[ref_summary])\n",
    "        meteor_scores = meteor.compute(predictions=[summary], references=[ref_summary])\n",
    "        bleu_scores = bleu.compute(predictions=[summary], references=[ref_summary])\n",
    "\n",
    "        print(\"\\n📊 Evaluation Metrics:\")\n",
    "        print(f\"ROUGE‑1: {rouge_scores['rouge1']:.3f}, ROUGE‑2: {rouge_scores['rouge2']:.3f}, ROUGE‑L: {rouge_scores['rougeL']:.3f}\")\n",
    "        print(f\"METEOR: {meteor_scores['meteor']:.3f}\")\n",
    "        print(f\"BLEU: {bleu_scores['bleu']:.3f}\")\n",
    "    else:\n",
    "        print(\"🔹 No reference summary provided—metrics skipped.\")"
   ]
  },
  {
   "cell_type": "code",
   "execution_count": null,
   "id": "bf1c493d-24f0-4d1f-b4c9-b0a317aabb8c",
   "metadata": {},
   "outputs": [],
   "source": []
  }
 ],
 "metadata": {
  "kernelspec": {
   "display_name": "Python 3 (ipykernel)",
   "language": "python",
   "name": "python3"
  },
  "language_info": {
   "codemirror_mode": {
    "name": "ipython",
    "version": 3
   },
   "file_extension": ".py",
   "mimetype": "text/x-python",
   "name": "python",
   "nbconvert_exporter": "python",
   "pygments_lexer": "ipython3",
   "version": "3.12.4"
  }
 },
 "nbformat": 4,
 "nbformat_minor": 5
}
