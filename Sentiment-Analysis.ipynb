{
 "cells": [
  {
   "cell_type": "markdown",
   "id": "2baae76a-7f6f-492c-a2ba-147e7c18e846",
   "metadata": {},
   "source": [
    "# Sentiment Analysis "
   ]
  },
  {
   "cell_type": "code",
   "execution_count": 22,
   "id": "00391c11-4b6d-48a3-bf88-93903e2ba27f",
   "metadata": {},
   "outputs": [],
   "source": [
    "# pip install langchain-core==0.3.0 langchain-openai==0.3.27 python-dotenv"
   ]
  },
  {
   "cell_type": "code",
   "execution_count": 23,
   "id": "48f12b3c-7ebf-4f91-9ac1-88910b2c91bf",
   "metadata": {},
   "outputs": [],
   "source": [
    "import os\n",
    "from dotenv import load_dotenv\n",
    "from langchain_core.prompts import PromptTemplate\n",
    "from langchain_openai import ChatOpenAI\n",
    "\n",
    "load_dotenv()  # loads .env from cwd (or specify path)\n",
    "\n",
    "api_key = os.getenv(\"OPENAI_API_KEY\")\n",
    "if not api_key:\n",
    "    raise ValueError(\"Missing OPENAI_API_KEY in environment\")\n",
    "\n",
    "llm = ChatOpenAI(model_name=\"gpt-3.5-turbo\", temperature=0)"
   ]
  },
  {
   "cell_type": "code",
   "execution_count": 24,
   "id": "1be0646f-60fd-413c-9b03-d09604773420",
   "metadata": {},
   "outputs": [],
   "source": [
    "prompt = PromptTemplate(\n",
    "    input_variables=[\"text\"],\n",
    "    template='Classify the sentiment of the following text as positive, neutral, or negative:\\n\\n\"{text}\"'\n",
    ")\n",
    "\n",
    "chain = prompt | llm  # LCEL RunnableSequence (no deprecated LLMChain)"
   ]
  },
  {
   "cell_type": "code",
   "execution_count": 25,
   "id": "73e44b8b-8244-4aeb-99d4-70e6016f1f3a",
   "metadata": {},
   "outputs": [],
   "source": [
    "def analyze_sentiment(text: str) -> str:\n",
    "    result = chain.invoke({\"text\": text})\n",
    "    return result.content.strip()  # Plain label text"
   ]
  },
  {
   "cell_type": "code",
   "execution_count": null,
   "id": "5ab997d8-3333-409d-8782-cd75e4ae3d11",
   "metadata": {},
   "outputs": [],
   "source": [
    "if __name__ == \"__main__\":\n",
    "    samples = [\n",
    "        \"I absolutely love this product!\",\n",
    "        \"It's okay, could be better.\",\n",
    "        \"Worst experience ever.\"\n",
    "    ]\n",
    "    for s in samples:\n",
    "        print(f\"Text: {s}\\nSentiment: {analyze_sentiment(s)}\\n\")"
   ]
  }
 ],
 "metadata": {
  "kernelspec": {
   "display_name": "Python 3 (ipykernel)",
   "language": "python",
   "name": "python3"
  },
  "language_info": {
   "codemirror_mode": {
    "name": "ipython",
    "version": 3
   },
   "file_extension": ".py",
   "mimetype": "text/x-python",
   "name": "python",
   "nbconvert_exporter": "python",
   "pygments_lexer": "ipython3",
   "version": "3.12.4"
  }
 },
 "nbformat": 4,
 "nbformat_minor": 5
}
